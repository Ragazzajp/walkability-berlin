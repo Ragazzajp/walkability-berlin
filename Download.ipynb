{
 "cells": [
  {
   "cell_type": "code",
   "execution_count": null,
   "metadata": {},
   "outputs": [],
   "source": [
    "#Blockkarte: https://fbinter.stadt-berlin.de/fb/wfs/data/senstadt/s_ISU5_2015_UA\n",
    "#Öffbeleucht: http://fbinter.stadt-berlin.de/fb/wfs/data/senstadt/s_oeffbeleucht\n",
    "#Biotoptypen: https://fbinter.stadt-berlin.de/fb/wfs/data/senstadt/s_fb_berlinbtk\n",
    "#Entwicklung Luftqualität - Emissionen 2015: https://fbinter.stadt-berlin.de/fb/wfs/data/senstadt/s03_12_2emissionen"
   ]
  },
  {
   "cell_type": "code",
   "execution_count": null,
   "metadata": {},
   "outputs": [],
   "source": [
    "#karte = \"https://fbinter.stadt-berlin.de/fb/wfs/data/senstadt/s_ISU5_2015_UA\"\n",
    "#beleucht = \"http://fbinter.stadt-berlin.de/fb/wfs/data/senstadt/s_oeffbeleucht\"\n",
    "#typ = \"https://fbinter.stadt-berlin.de/fb/wfs/data/senstadt/s_fb_berlinbtk\"\n",
    "#emission = \"https://fbinter.stadt-berlin.de/fb/wfs/data/senstadt/s03_12_2emissionen\""
   ]
  },
  {
   "cell_type": "code",
   "execution_count": 1,
   "metadata": {
    "ExecuteTime": {
     "end_time": "2020-05-23T10:30:55.586106Z",
     "start_time": "2020-05-23T10:30:51.705536Z"
    }
   },
   "outputs": [],
   "source": [
    "import geopandas as gpd\n",
    "import requests\n",
    "from owslib.wfs import WebFeatureService\n",
    "import matplotlib as plt"
   ]
  },
  {
   "cell_type": "code",
   "execution_count": 2,
   "metadata": {
    "ExecuteTime": {
     "end_time": "2020-05-23T10:30:57.396527Z",
     "start_time": "2020-05-23T10:30:56.765958Z"
    }
   },
   "outputs": [
    {
     "data": {
      "text/plain": [
       "['fis:re_ortsteil']"
      ]
     },
     "execution_count": 2,
     "metadata": {},
     "output_type": "execute_result"
    }
   ],
   "source": [
    "url = \"https://fbinter.stadt-berlin.de/fb/wfs/geometry/senstadt/re_ortsteil\"\n",
    "wfs = WebFeatureService(url=url, version='1.1.0', timeout=300)\n",
    "\n",
    "list(wfs.contents.keys())"
   ]
  },
  {
   "cell_type": "code",
   "execution_count": 3,
   "metadata": {
    "ExecuteTime": {
     "end_time": "2020-05-23T10:31:13.419269Z",
     "start_time": "2020-05-23T10:31:13.143861Z"
    }
   },
   "outputs": [
    {
     "data": {
      "text/plain": [
       "{'properties': {'spatial_name': 'string',\n",
       "  'spatial_alias': 'string',\n",
       "  'spatial_type': 'string'},\n",
       " 'required': [],\n",
       " 'geometry': 'GeometryCollection',\n",
       " 'geometry_column': 'spatial_geometry'}"
      ]
     },
     "execution_count": 3,
     "metadata": {},
     "output_type": "execute_result"
    }
   ],
   "source": [
    "wfs.get_schema('fis:re_ortsteil')"
   ]
  },
  {
   "cell_type": "code",
   "execution_count": 4,
   "metadata": {
    "ExecuteTime": {
     "end_time": "2020-05-23T10:31:52.450873Z",
     "start_time": "2020-05-23T10:31:49.862715Z"
    }
   },
   "outputs": [],
   "source": [
    "ortsteile = wfs.getfeature(typename='fis:re_ortsteil')"
   ]
  },
  {
   "cell_type": "code",
   "execution_count": 5,
   "metadata": {
    "ExecuteTime": {
     "end_time": "2020-05-23T10:32:05.969184Z",
     "start_time": "2020-05-23T10:32:04.698384Z"
    }
   },
   "outputs": [],
   "source": [
    "ortsteile_df = gpd.read_file(ortsteile)"
   ]
  },
  {
   "cell_type": "code",
   "execution_count": 6,
   "metadata": {
    "ExecuteTime": {
     "end_time": "2020-05-23T10:32:14.216213Z",
     "start_time": "2020-05-23T10:32:14.081453Z"
    }
   },
   "outputs": [
    {
     "data": {
      "text/html": [
       "<div>\n",
       "<style scoped>\n",
       "    .dataframe tbody tr th:only-of-type {\n",
       "        vertical-align: middle;\n",
       "    }\n",
       "\n",
       "    .dataframe tbody tr th {\n",
       "        vertical-align: top;\n",
       "    }\n",
       "\n",
       "    .dataframe thead th {\n",
       "        text-align: right;\n",
       "    }\n",
       "</style>\n",
       "<table border=\"1\" class=\"dataframe\">\n",
       "  <thead>\n",
       "    <tr style=\"text-align: right;\">\n",
       "      <th></th>\n",
       "      <th>gml_id</th>\n",
       "      <th>spatial_name</th>\n",
       "      <th>spatial_alias</th>\n",
       "      <th>spatial_type</th>\n",
       "      <th>geometry</th>\n",
       "    </tr>\n",
       "  </thead>\n",
       "  <tbody>\n",
       "    <tr>\n",
       "      <th>0</th>\n",
       "      <td>re_ortsteil.0101</td>\n",
       "      <td>0101</td>\n",
       "      <td>Mitte</td>\n",
       "      <td>Polygon</td>\n",
       "      <td>POLYGON ((390887.827 5821875.159, 390873.482 5...</td>\n",
       "    </tr>\n",
       "    <tr>\n",
       "      <th>1</th>\n",
       "      <td>re_ortsteil.0102</td>\n",
       "      <td>0102</td>\n",
       "      <td>Moabit</td>\n",
       "      <td>Polygon</td>\n",
       "      <td>POLYGON ((387338.941 5822384.132, 387336.697 5...</td>\n",
       "    </tr>\n",
       "    <tr>\n",
       "      <th>2</th>\n",
       "      <td>re_ortsteil.0103</td>\n",
       "      <td>0103</td>\n",
       "      <td>Hansaviertel</td>\n",
       "      <td>Polygon</td>\n",
       "      <td>POLYGON ((387868.810 5819944.731, 387870.303 5...</td>\n",
       "    </tr>\n",
       "    <tr>\n",
       "      <th>3</th>\n",
       "      <td>re_ortsteil.0104</td>\n",
       "      <td>0104</td>\n",
       "      <td>Tiergarten</td>\n",
       "      <td>Polygon</td>\n",
       "      <td>POLYGON ((389823.704 5820142.165, 389822.801 5...</td>\n",
       "    </tr>\n",
       "    <tr>\n",
       "      <th>4</th>\n",
       "      <td>re_ortsteil.0105</td>\n",
       "      <td>0105</td>\n",
       "      <td>Wedding</td>\n",
       "      <td>Polygon</td>\n",
       "      <td>POLYGON ((388825.025 5824733.214, 388824.600 5...</td>\n",
       "    </tr>\n",
       "  </tbody>\n",
       "</table>\n",
       "</div>"
      ],
      "text/plain": [
       "             gml_id spatial_name spatial_alias spatial_type  \\\n",
       "0  re_ortsteil.0101         0101         Mitte      Polygon   \n",
       "1  re_ortsteil.0102         0102        Moabit      Polygon   \n",
       "2  re_ortsteil.0103         0103  Hansaviertel      Polygon   \n",
       "3  re_ortsteil.0104         0104    Tiergarten      Polygon   \n",
       "4  re_ortsteil.0105         0105       Wedding      Polygon   \n",
       "\n",
       "                                            geometry  \n",
       "0  POLYGON ((390887.827 5821875.159, 390873.482 5...  \n",
       "1  POLYGON ((387338.941 5822384.132, 387336.697 5...  \n",
       "2  POLYGON ((387868.810 5819944.731, 387870.303 5...  \n",
       "3  POLYGON ((389823.704 5820142.165, 389822.801 5...  \n",
       "4  POLYGON ((388825.025 5824733.214, 388824.600 5...  "
      ]
     },
     "execution_count": 6,
     "metadata": {},
     "output_type": "execute_result"
    }
   ],
   "source": [
    "ortsteile_df.head()"
   ]
  },
  {
   "cell_type": "code",
   "execution_count": 2,
   "metadata": {
    "ExecuteTime": {
     "end_time": "2020-05-17T19:39:15.934363Z",
     "start_time": "2020-05-17T19:39:15.421721Z"
    }
   },
   "outputs": [
    {
     "data": {
      "text/plain": [
       "['fis:s_ISU5_2015_UA']"
      ]
     },
     "execution_count": 2,
     "metadata": {},
     "output_type": "execute_result"
    }
   ],
   "source": [
    "url = \"https://fbinter.stadt-berlin.de/fb/wfs/data/senstadt/s_ISU5_2015_UA\"\n",
    "wfs = WebFeatureService(url=url, version='1.1.0', timeout=300)\n",
    "\n",
    "list(wfs.contents.keys())"
   ]
  },
  {
   "cell_type": "code",
   "execution_count": 3,
   "metadata": {
    "ExecuteTime": {
     "end_time": "2020-05-17T19:39:16.114348Z",
     "start_time": "2020-05-17T19:39:15.936326Z"
    }
   },
   "outputs": [
    {
     "data": {
      "text/plain": [
       "{'properties': {'FLALLE': 'decimal',\n",
       "  'STR_FLGES': 'decimal',\n",
       "  'BEZ': 'decimal',\n",
       "  'BEZIRK': 'string',\n",
       "  'STAT': 'string',\n",
       "  'PRG': 'string',\n",
       "  'PRG_NAME': 'string',\n",
       "  'BZR': 'string',\n",
       "  'BZR_NAME': 'string',\n",
       "  'PLR': 'string',\n",
       "  'PLR_NAME': 'string'},\n",
       " 'required': [],\n",
       " 'geometry': 'GeometryCollection',\n",
       " 'geometry_column': 'SHAPE'}"
      ]
     },
     "execution_count": 3,
     "metadata": {},
     "output_type": "execute_result"
    }
   ],
   "source": [
    "wfs.get_schema('fis:s_ISU5_2015_UA')"
   ]
  },
  {
   "cell_type": "code",
   "execution_count": 4,
   "metadata": {
    "ExecuteTime": {
     "end_time": "2020-05-17T19:39:37.385190Z",
     "start_time": "2020-05-17T19:39:16.116235Z"
    }
   },
   "outputs": [],
   "source": [
    "karte = wfs.getfeature(typename='fis:s_ISU5_2015_UA')"
   ]
  },
  {
   "cell_type": "code",
   "execution_count": 5,
   "metadata": {
    "ExecuteTime": {
     "end_time": "2020-05-17T19:39:39.191970Z",
     "start_time": "2020-05-17T19:39:37.386703Z"
    }
   },
   "outputs": [],
   "source": [
    "karte_df = gpd.read_file(karte)"
   ]
  },
  {
   "cell_type": "code",
   "execution_count": 6,
   "metadata": {
    "ExecuteTime": {
     "end_time": "2020-05-17T19:39:39.221440Z",
     "start_time": "2020-05-17T19:39:39.191970Z"
    }
   },
   "outputs": [
    {
     "data": {
      "text/html": [
       "<div>\n",
       "<style scoped>\n",
       "    .dataframe tbody tr th:only-of-type {\n",
       "        vertical-align: middle;\n",
       "    }\n",
       "\n",
       "    .dataframe tbody tr th {\n",
       "        vertical-align: top;\n",
       "    }\n",
       "\n",
       "    .dataframe thead th {\n",
       "        text-align: right;\n",
       "    }\n",
       "</style>\n",
       "<table border=\"1\" class=\"dataframe\">\n",
       "  <thead>\n",
       "    <tr style=\"text-align: right;\">\n",
       "      <th></th>\n",
       "      <th>gml_id</th>\n",
       "      <th>FLALLE</th>\n",
       "      <th>STR_FLGES</th>\n",
       "      <th>BEZ</th>\n",
       "      <th>BEZIRK</th>\n",
       "      <th>STAT</th>\n",
       "      <th>PRG</th>\n",
       "      <th>PRG_NAME</th>\n",
       "      <th>BZR</th>\n",
       "      <th>BZR_NAME</th>\n",
       "      <th>PLR</th>\n",
       "      <th>PLR_NAME</th>\n",
       "      <th>geometry</th>\n",
       "    </tr>\n",
       "  </thead>\n",
       "  <tbody>\n",
       "    <tr>\n",
       "      <th>0</th>\n",
       "      <td>s_ISU5_2015_UA.0401090161000000</td>\n",
       "      <td>194431.0</td>\n",
       "      <td>24391.0</td>\n",
       "      <td>3.0</td>\n",
       "      <td>Pankow</td>\n",
       "      <td>109</td>\n",
       "      <td>0306</td>\n",
       "      <td>Nördlicher Prenzl. Berg</td>\n",
       "      <td>030614</td>\n",
       "      <td>Prenzlauer Berg Ost</td>\n",
       "      <td>03061430</td>\n",
       "      <td>Volkspark Prenzlauer Berg</td>\n",
       "      <td>POLYGON ((394862.511 5821917.607, 394870.946 5...</td>\n",
       "    </tr>\n",
       "    <tr>\n",
       "      <th>1</th>\n",
       "      <td>s_ISU5_2015_UA.0401090171000000</td>\n",
       "      <td>16605.0</td>\n",
       "      <td>5668.0</td>\n",
       "      <td>3.0</td>\n",
       "      <td>Pankow</td>\n",
       "      <td>109</td>\n",
       "      <td>0306</td>\n",
       "      <td>Nördlicher Prenzl. Berg</td>\n",
       "      <td>030614</td>\n",
       "      <td>Prenzlauer Berg Ost</td>\n",
       "      <td>03061430</td>\n",
       "      <td>Volkspark Prenzlauer Berg</td>\n",
       "      <td>POLYGON ((395663.219 5821249.211, 395723.397 5...</td>\n",
       "    </tr>\n",
       "    <tr>\n",
       "      <th>2</th>\n",
       "      <td>s_ISU5_2015_UA.0401090181000000</td>\n",
       "      <td>7264.0</td>\n",
       "      <td>3720.0</td>\n",
       "      <td>3.0</td>\n",
       "      <td>Pankow</td>\n",
       "      <td>109</td>\n",
       "      <td>0306</td>\n",
       "      <td>Nördlicher Prenzl. Berg</td>\n",
       "      <td>030614</td>\n",
       "      <td>Prenzlauer Berg Ost</td>\n",
       "      <td>03061430</td>\n",
       "      <td>Volkspark Prenzlauer Berg</td>\n",
       "      <td>POLYGON ((395627.552 5821169.347, 395655.761 5...</td>\n",
       "    </tr>\n",
       "    <tr>\n",
       "      <th>3</th>\n",
       "      <td>s_ISU5_2015_UA.0401090191000000</td>\n",
       "      <td>109611.0</td>\n",
       "      <td>21853.0</td>\n",
       "      <td>3.0</td>\n",
       "      <td>Pankow</td>\n",
       "      <td>109</td>\n",
       "      <td>0306</td>\n",
       "      <td>Nördlicher Prenzl. Berg</td>\n",
       "      <td>030614</td>\n",
       "      <td>Prenzlauer Berg Ost</td>\n",
       "      <td>03061430</td>\n",
       "      <td>Volkspark Prenzlauer Berg</td>\n",
       "      <td>POLYGON ((394754.286 5821803.367, 394918.729 5...</td>\n",
       "    </tr>\n",
       "    <tr>\n",
       "      <th>4</th>\n",
       "      <td>s_ISU5_2015_UA.0401090201000000</td>\n",
       "      <td>101452.0</td>\n",
       "      <td>6613.0</td>\n",
       "      <td>3.0</td>\n",
       "      <td>Pankow</td>\n",
       "      <td>109</td>\n",
       "      <td>0306</td>\n",
       "      <td>Nördlicher Prenzl. Berg</td>\n",
       "      <td>030614</td>\n",
       "      <td>Prenzlauer Berg Ost</td>\n",
       "      <td>03061435</td>\n",
       "      <td>Conrad-Blenkle-Straße</td>\n",
       "      <td>POLYGON ((394550.669 5821404.393, 394681.395 5...</td>\n",
       "    </tr>\n",
       "  </tbody>\n",
       "</table>\n",
       "</div>"
      ],
      "text/plain": [
       "                            gml_id    FLALLE  STR_FLGES  BEZ  BEZIRK STAT  \\\n",
       "0  s_ISU5_2015_UA.0401090161000000  194431.0    24391.0  3.0  Pankow  109   \n",
       "1  s_ISU5_2015_UA.0401090171000000   16605.0     5668.0  3.0  Pankow  109   \n",
       "2  s_ISU5_2015_UA.0401090181000000    7264.0     3720.0  3.0  Pankow  109   \n",
       "3  s_ISU5_2015_UA.0401090191000000  109611.0    21853.0  3.0  Pankow  109   \n",
       "4  s_ISU5_2015_UA.0401090201000000  101452.0     6613.0  3.0  Pankow  109   \n",
       "\n",
       "    PRG                 PRG_NAME     BZR             BZR_NAME       PLR  \\\n",
       "0  0306  Nördlicher Prenzl. Berg  030614  Prenzlauer Berg Ost  03061430   \n",
       "1  0306  Nördlicher Prenzl. Berg  030614  Prenzlauer Berg Ost  03061430   \n",
       "2  0306  Nördlicher Prenzl. Berg  030614  Prenzlauer Berg Ost  03061430   \n",
       "3  0306  Nördlicher Prenzl. Berg  030614  Prenzlauer Berg Ost  03061430   \n",
       "4  0306  Nördlicher Prenzl. Berg  030614  Prenzlauer Berg Ost  03061435   \n",
       "\n",
       "                    PLR_NAME  \\\n",
       "0  Volkspark Prenzlauer Berg   \n",
       "1  Volkspark Prenzlauer Berg   \n",
       "2  Volkspark Prenzlauer Berg   \n",
       "3  Volkspark Prenzlauer Berg   \n",
       "4      Conrad-Blenkle-Straße   \n",
       "\n",
       "                                            geometry  \n",
       "0  POLYGON ((394862.511 5821917.607, 394870.946 5...  \n",
       "1  POLYGON ((395663.219 5821249.211, 395723.397 5...  \n",
       "2  POLYGON ((395627.552 5821169.347, 395655.761 5...  \n",
       "3  POLYGON ((394754.286 5821803.367, 394918.729 5...  \n",
       "4  POLYGON ((394550.669 5821404.393, 394681.395 5...  "
      ]
     },
     "execution_count": 6,
     "metadata": {},
     "output_type": "execute_result"
    }
   ],
   "source": [
    "karte_df.head()"
   ]
  },
  {
   "cell_type": "code",
   "execution_count": 7,
   "metadata": {
    "ExecuteTime": {
     "end_time": "2020-05-17T19:39:39.845413Z",
     "start_time": "2020-05-17T19:39:39.223441Z"
    }
   },
   "outputs": [
    {
     "data": {
      "text/plain": [
       "['fis:s_oeffbeleucht']"
      ]
     },
     "execution_count": 7,
     "metadata": {},
     "output_type": "execute_result"
    }
   ],
   "source": [
    "url = \"http://fbinter.stadt-berlin.de/fb/wfs/data/senstadt/s_oeffbeleucht\"\n",
    "wfs = WebFeatureService(url=url, version='1.1.0', timeout=300)\n",
    "\n",
    "list(wfs.contents.keys())"
   ]
  },
  {
   "cell_type": "code",
   "execution_count": 8,
   "metadata": {
    "ExecuteTime": {
     "end_time": "2020-05-17T19:39:40.095236Z",
     "start_time": "2020-05-17T19:39:39.848416Z"
    }
   },
   "outputs": [
    {
     "data": {
      "text/plain": [
       "{'properties': {'LEUCHTSTELLE': 'string',\n",
       "  'KURZNUMMER': 'string',\n",
       "  'BETRIEBSART': 'string',\n",
       "  'STATUS': 'string',\n",
       "  'BEZIRK': 'string',\n",
       "  'ORTSTEIL': 'string',\n",
       "  'STRASSE': 'string',\n",
       "  'EAST': 'decimal',\n",
       "  'NORTH': 'decimal',\n",
       "  'LEUCHTENTYP': 'string'},\n",
       " 'required': [],\n",
       " 'geometry': 'GeometryCollection',\n",
       " 'geometry_column': 'SHAPE'}"
      ]
     },
     "execution_count": 8,
     "metadata": {},
     "output_type": "execute_result"
    }
   ],
   "source": [
    "wfs.get_schema('fis:s_oeffbeleucht')"
   ]
  },
  {
   "cell_type": "code",
   "execution_count": 9,
   "metadata": {
    "ExecuteTime": {
     "end_time": "2020-05-17T19:40:58.629553Z",
     "start_time": "2020-05-17T19:39:40.097231Z"
    }
   },
   "outputs": [],
   "source": [
    "beleucht = wfs.getfeature(typename='fis:s_oeffbeleucht')"
   ]
  },
  {
   "cell_type": "code",
   "execution_count": 10,
   "metadata": {
    "ExecuteTime": {
     "end_time": "2020-05-17T19:41:08.018953Z",
     "start_time": "2020-05-17T19:40:58.631542Z"
    }
   },
   "outputs": [],
   "source": [
    "beleucht_df = gpd.read_file(beleucht)"
   ]
  },
  {
   "cell_type": "code",
   "execution_count": 11,
   "metadata": {
    "ExecuteTime": {
     "end_time": "2020-05-17T19:41:08.043503Z",
     "start_time": "2020-05-17T19:41:08.018953Z"
    }
   },
   "outputs": [
    {
     "data": {
      "text/html": [
       "<div>\n",
       "<style scoped>\n",
       "    .dataframe tbody tr th:only-of-type {\n",
       "        vertical-align: middle;\n",
       "    }\n",
       "\n",
       "    .dataframe tbody tr th {\n",
       "        vertical-align: top;\n",
       "    }\n",
       "\n",
       "    .dataframe thead th {\n",
       "        text-align: right;\n",
       "    }\n",
       "</style>\n",
       "<table border=\"1\" class=\"dataframe\">\n",
       "  <thead>\n",
       "    <tr style=\"text-align: right;\">\n",
       "      <th></th>\n",
       "      <th>gml_id</th>\n",
       "      <th>LEUCHTSTELLE</th>\n",
       "      <th>KURZNUMMER</th>\n",
       "      <th>BETRIEBSART</th>\n",
       "      <th>STATUS</th>\n",
       "      <th>BEZIRK</th>\n",
       "      <th>ORTSTEIL</th>\n",
       "      <th>STRASSE</th>\n",
       "      <th>EAST</th>\n",
       "      <th>NORTH</th>\n",
       "      <th>LEUCHTENTYP</th>\n",
       "      <th>geometry</th>\n",
       "    </tr>\n",
       "  </thead>\n",
       "  <tbody>\n",
       "    <tr>\n",
       "      <th>0</th>\n",
       "      <td>s_oeffbeleucht.33123</td>\n",
       "      <td>02211-2110008-00</td>\n",
       "      <td>0008</td>\n",
       "      <td>Strom</td>\n",
       "      <td>In Betrieb</td>\n",
       "      <td>Spandau (REG C)</td>\n",
       "      <td>Kladow</td>\n",
       "      <td>Jägerallee</td>\n",
       "      <td>372438.3163</td>\n",
       "      <td>5814483.635</td>\n",
       "      <td>Lichtmast mit Ansatzleuchte</td>\n",
       "      <td>POINT (372438.316 5814483.635)</td>\n",
       "    </tr>\n",
       "    <tr>\n",
       "      <th>1</th>\n",
       "      <td>s_oeffbeleucht.33124</td>\n",
       "      <td>02211-2110009-00</td>\n",
       "      <td>0009</td>\n",
       "      <td>Strom</td>\n",
       "      <td>In Betrieb</td>\n",
       "      <td>Spandau (REG C)</td>\n",
       "      <td>Kladow</td>\n",
       "      <td>Jägerallee</td>\n",
       "      <td>372426.9082</td>\n",
       "      <td>5814451.792</td>\n",
       "      <td>Lichtmast mit Ansatzleuchte</td>\n",
       "      <td>POINT (372426.908 5814451.792)</td>\n",
       "    </tr>\n",
       "    <tr>\n",
       "      <th>2</th>\n",
       "      <td>s_oeffbeleucht.33125</td>\n",
       "      <td>02211-2110010-00</td>\n",
       "      <td>0010</td>\n",
       "      <td>Strom</td>\n",
       "      <td>In Betrieb</td>\n",
       "      <td>Spandau (REG C)</td>\n",
       "      <td>Kladow</td>\n",
       "      <td>Jägerallee</td>\n",
       "      <td>372431.6264</td>\n",
       "      <td>5814423.142</td>\n",
       "      <td>Lichtmast mit Ansatzleuchte</td>\n",
       "      <td>POINT (372431.626 5814423.142)</td>\n",
       "    </tr>\n",
       "    <tr>\n",
       "      <th>3</th>\n",
       "      <td>s_oeffbeleucht.33126</td>\n",
       "      <td>02211-2110011-00</td>\n",
       "      <td>0011</td>\n",
       "      <td>Strom</td>\n",
       "      <td>In Betrieb</td>\n",
       "      <td>Spandau (REG C)</td>\n",
       "      <td>Kladow</td>\n",
       "      <td>Jägerallee</td>\n",
       "      <td>372440.9318</td>\n",
       "      <td>5814390.779</td>\n",
       "      <td>Lichtmast mit Ansatzleuchte</td>\n",
       "      <td>POINT (372440.932 5814390.779)</td>\n",
       "    </tr>\n",
       "    <tr>\n",
       "      <th>4</th>\n",
       "      <td>s_oeffbeleucht.33127</td>\n",
       "      <td>02211-2110012-00</td>\n",
       "      <td>0012</td>\n",
       "      <td>Strom</td>\n",
       "      <td>In Betrieb</td>\n",
       "      <td>Spandau (REG C)</td>\n",
       "      <td>Kladow</td>\n",
       "      <td>Jägerallee</td>\n",
       "      <td>372453.2643</td>\n",
       "      <td>5814363.783</td>\n",
       "      <td>Lichtmast mit Ansatzleuchte</td>\n",
       "      <td>POINT (372453.264 5814363.783)</td>\n",
       "    </tr>\n",
       "  </tbody>\n",
       "</table>\n",
       "</div>"
      ],
      "text/plain": [
       "                 gml_id      LEUCHTSTELLE KURZNUMMER BETRIEBSART      STATUS  \\\n",
       "0  s_oeffbeleucht.33123  02211-2110008-00       0008       Strom  In Betrieb   \n",
       "1  s_oeffbeleucht.33124  02211-2110009-00       0009       Strom  In Betrieb   \n",
       "2  s_oeffbeleucht.33125  02211-2110010-00       0010       Strom  In Betrieb   \n",
       "3  s_oeffbeleucht.33126  02211-2110011-00       0011       Strom  In Betrieb   \n",
       "4  s_oeffbeleucht.33127  02211-2110012-00       0012       Strom  In Betrieb   \n",
       "\n",
       "            BEZIRK ORTSTEIL     STRASSE         EAST        NORTH  \\\n",
       "0  Spandau (REG C)   Kladow  Jägerallee  372438.3163  5814483.635   \n",
       "1  Spandau (REG C)   Kladow  Jägerallee  372426.9082  5814451.792   \n",
       "2  Spandau (REG C)   Kladow  Jägerallee  372431.6264  5814423.142   \n",
       "3  Spandau (REG C)   Kladow  Jägerallee  372440.9318  5814390.779   \n",
       "4  Spandau (REG C)   Kladow  Jägerallee  372453.2643  5814363.783   \n",
       "\n",
       "                   LEUCHTENTYP                        geometry  \n",
       "0  Lichtmast mit Ansatzleuchte  POINT (372438.316 5814483.635)  \n",
       "1  Lichtmast mit Ansatzleuchte  POINT (372426.908 5814451.792)  \n",
       "2  Lichtmast mit Ansatzleuchte  POINT (372431.626 5814423.142)  \n",
       "3  Lichtmast mit Ansatzleuchte  POINT (372440.932 5814390.779)  \n",
       "4  Lichtmast mit Ansatzleuchte  POINT (372453.264 5814363.783)  "
      ]
     },
     "execution_count": 11,
     "metadata": {},
     "output_type": "execute_result"
    }
   ],
   "source": [
    "beleucht_df.head()"
   ]
  },
  {
   "cell_type": "code",
   "execution_count": 12,
   "metadata": {
    "ExecuteTime": {
     "end_time": "2020-05-17T19:41:08.506059Z",
     "start_time": "2020-05-17T19:41:08.045502Z"
    }
   },
   "outputs": [
    {
     "data": {
      "text/plain": [
       "['fis:s_fb_berlinbtk']"
      ]
     },
     "execution_count": 12,
     "metadata": {},
     "output_type": "execute_result"
    }
   ],
   "source": [
    "url = \"https://fbinter.stadt-berlin.de/fb/wfs/data/senstadt/s_fb_berlinbtk\"\n",
    "wfs = WebFeatureService(url=url, version='1.1.0', timeout=300)\n",
    "\n",
    "list(wfs.contents.keys())"
   ]
  },
  {
   "cell_type": "code",
   "execution_count": 13,
   "metadata": {
    "ExecuteTime": {
     "end_time": "2020-05-17T19:41:08.696928Z",
     "start_time": "2020-05-17T19:41:08.507965Z"
    }
   },
   "outputs": [
    {
     "data": {
      "text/plain": [
       "{'properties': {'BIOTOP_ID': 'string',\n",
       "  'BT_CODE': 'string',\n",
       "  'BT_NAME': 'string',\n",
       "  'BT_LEG': 'string',\n",
       "  'BFN_CODE': 'string',\n",
       "  'ZBT_CODE': 'string',\n",
       "  'BBT_CODE': 'string',\n",
       "  'SCHUTZ_GES': 'string',\n",
       "  'BT_WERT': 'string',\n",
       "  'LRT_CODE': 'string',\n",
       "  'LRT_NAME': 'string',\n",
       "  'LRT_ZUSTA': 'string',\n",
       "  'LRT_KOMPL': 'string',\n",
       "  'BOGEN_ID': 'string',\n",
       "  'KART_JAHR': 'string',\n",
       "  'PRJ_ID': 'string',\n",
       "  'PRJ_TITEL': 'string',\n",
       "  'DAT_QUELLE': 'string',\n",
       "  'DAT_METHOD': 'string'},\n",
       " 'required': [],\n",
       " 'geometry': 'GeometryCollection',\n",
       " 'geometry_column': 'GEOMETRIE'}"
      ]
     },
     "execution_count": 13,
     "metadata": {},
     "output_type": "execute_result"
    }
   ],
   "source": [
    "wfs.get_schema('fis:s_fb_berlinbtk')"
   ]
  },
  {
   "cell_type": "code",
   "execution_count": 14,
   "metadata": {
    "ExecuteTime": {
     "end_time": "2020-05-17T19:43:00.290779Z",
     "start_time": "2020-05-17T19:41:08.698808Z"
    }
   },
   "outputs": [],
   "source": [
    "typ = wfs.getfeature(typename='fis:s_fb_berlinbtk')"
   ]
  },
  {
   "cell_type": "code",
   "execution_count": 15,
   "metadata": {
    "ExecuteTime": {
     "end_time": "2020-05-17T19:43:08.396765Z",
     "start_time": "2020-05-17T19:43:00.290779Z"
    }
   },
   "outputs": [],
   "source": [
    "typ_df = gpd.read_file(typ)"
   ]
  },
  {
   "cell_type": "code",
   "execution_count": 16,
   "metadata": {
    "ExecuteTime": {
     "end_time": "2020-05-17T19:43:08.435435Z",
     "start_time": "2020-05-17T19:43:08.396765Z"
    }
   },
   "outputs": [
    {
     "data": {
      "text/html": [
       "<div>\n",
       "<style scoped>\n",
       "    .dataframe tbody tr th:only-of-type {\n",
       "        vertical-align: middle;\n",
       "    }\n",
       "\n",
       "    .dataframe tbody tr th {\n",
       "        vertical-align: top;\n",
       "    }\n",
       "\n",
       "    .dataframe thead th {\n",
       "        text-align: right;\n",
       "    }\n",
       "</style>\n",
       "<table border=\"1\" class=\"dataframe\">\n",
       "  <thead>\n",
       "    <tr style=\"text-align: right;\">\n",
       "      <th></th>\n",
       "      <th>gml_id</th>\n",
       "      <th>BIOTOP_ID</th>\n",
       "      <th>BT_CODE</th>\n",
       "      <th>BT_NAME</th>\n",
       "      <th>BT_LEG</th>\n",
       "      <th>BFN_CODE</th>\n",
       "      <th>ZBT_CODE</th>\n",
       "      <th>BBT_CODE</th>\n",
       "      <th>SCHUTZ_GES</th>\n",
       "      <th>BT_WERT</th>\n",
       "      <th>...</th>\n",
       "      <th>LRT_NAME</th>\n",
       "      <th>LRT_ZUSTA</th>\n",
       "      <th>LRT_KOMPL</th>\n",
       "      <th>BOGEN_ID</th>\n",
       "      <th>KART_JAHR</th>\n",
       "      <th>PRJ_ID</th>\n",
       "      <th>PRJ_TITEL</th>\n",
       "      <th>DAT_QUELLE</th>\n",
       "      <th>DAT_METHOD</th>\n",
       "      <th>geometry</th>\n",
       "    </tr>\n",
       "  </thead>\n",
       "  <tbody>\n",
       "    <tr>\n",
       "      <th>0</th>\n",
       "      <td>s_fb_berlinbtk.SD1276015</td>\n",
       "      <td>SD1276015</td>\n",
       "      <td>01000</td>\n",
       "      <td>Fließgewässer</td>\n",
       "      <td>1</td>\n",
       "      <td>23.</td>\n",
       "      <td>None</td>\n",
       "      <td>None</td>\n",
       "      <td>3</td>\n",
       "      <td>-1</td>\n",
       "      <td>...</td>\n",
       "      <td>None</td>\n",
       "      <td>None</td>\n",
       "      <td>3</td>\n",
       "      <td>None</td>\n",
       "      <td>None</td>\n",
       "      <td>None</td>\n",
       "      <td>None</td>\n",
       "      <td>S</td>\n",
       "      <td>S_Gewässer</td>\n",
       "      <td>POLYGON ((373878.291 5823124.698, 373876.630 5...</td>\n",
       "    </tr>\n",
       "    <tr>\n",
       "      <th>1</th>\n",
       "      <td>s_fb_berlinbtk.SD1276021</td>\n",
       "      <td>SD1276021</td>\n",
       "      <td>01000</td>\n",
       "      <td>Fließgewässer</td>\n",
       "      <td>1</td>\n",
       "      <td>23.</td>\n",
       "      <td>None</td>\n",
       "      <td>None</td>\n",
       "      <td>3</td>\n",
       "      <td>-1</td>\n",
       "      <td>...</td>\n",
       "      <td>None</td>\n",
       "      <td>None</td>\n",
       "      <td>3</td>\n",
       "      <td>None</td>\n",
       "      <td>None</td>\n",
       "      <td>None</td>\n",
       "      <td>None</td>\n",
       "      <td>S</td>\n",
       "      <td>S_Gewässer</td>\n",
       "      <td>POLYGON ((377387.250 5821451.963, 377387.591 5...</td>\n",
       "    </tr>\n",
       "    <tr>\n",
       "      <th>2</th>\n",
       "      <td>s_fb_berlinbtk.SD1276024</td>\n",
       "      <td>SD1276024</td>\n",
       "      <td>01000</td>\n",
       "      <td>Fließgewässer</td>\n",
       "      <td>1</td>\n",
       "      <td>23.</td>\n",
       "      <td>None</td>\n",
       "      <td>None</td>\n",
       "      <td>3</td>\n",
       "      <td>-1</td>\n",
       "      <td>...</td>\n",
       "      <td>None</td>\n",
       "      <td>None</td>\n",
       "      <td>3</td>\n",
       "      <td>None</td>\n",
       "      <td>None</td>\n",
       "      <td>None</td>\n",
       "      <td>None</td>\n",
       "      <td>S</td>\n",
       "      <td>S_Gewässer</td>\n",
       "      <td>POLYGON ((377053.903 5821392.762, 377053.882 5...</td>\n",
       "    </tr>\n",
       "    <tr>\n",
       "      <th>3</th>\n",
       "      <td>s_fb_berlinbtk.SD1276027</td>\n",
       "      <td>SD1276027</td>\n",
       "      <td>01000</td>\n",
       "      <td>Fließgewässer</td>\n",
       "      <td>1</td>\n",
       "      <td>23.</td>\n",
       "      <td>None</td>\n",
       "      <td>None</td>\n",
       "      <td>3</td>\n",
       "      <td>-1</td>\n",
       "      <td>...</td>\n",
       "      <td>None</td>\n",
       "      <td>None</td>\n",
       "      <td>3</td>\n",
       "      <td>None</td>\n",
       "      <td>None</td>\n",
       "      <td>None</td>\n",
       "      <td>None</td>\n",
       "      <td>S</td>\n",
       "      <td>S_Gewässer</td>\n",
       "      <td>POLYGON ((377643.322 5810868.289, 377645.257 5...</td>\n",
       "    </tr>\n",
       "    <tr>\n",
       "      <th>4</th>\n",
       "      <td>s_fb_berlinbtk.SD1276033</td>\n",
       "      <td>SD1276033</td>\n",
       "      <td>01000</td>\n",
       "      <td>Fließgewässer</td>\n",
       "      <td>1</td>\n",
       "      <td>23.</td>\n",
       "      <td>None</td>\n",
       "      <td>None</td>\n",
       "      <td>3</td>\n",
       "      <td>-1</td>\n",
       "      <td>...</td>\n",
       "      <td>None</td>\n",
       "      <td>None</td>\n",
       "      <td>3</td>\n",
       "      <td>None</td>\n",
       "      <td>None</td>\n",
       "      <td>None</td>\n",
       "      <td>None</td>\n",
       "      <td>S</td>\n",
       "      <td>S_Gewässer</td>\n",
       "      <td>POLYGON ((385661.856 5827958.611, 385640.907 5...</td>\n",
       "    </tr>\n",
       "  </tbody>\n",
       "</table>\n",
       "<p>5 rows × 21 columns</p>\n",
       "</div>"
      ],
      "text/plain": [
       "                     gml_id  BIOTOP_ID BT_CODE        BT_NAME BT_LEG BFN_CODE  \\\n",
       "0  s_fb_berlinbtk.SD1276015  SD1276015   01000  Fließgewässer      1      23.   \n",
       "1  s_fb_berlinbtk.SD1276021  SD1276021   01000  Fließgewässer      1      23.   \n",
       "2  s_fb_berlinbtk.SD1276024  SD1276024   01000  Fließgewässer      1      23.   \n",
       "3  s_fb_berlinbtk.SD1276027  SD1276027   01000  Fließgewässer      1      23.   \n",
       "4  s_fb_berlinbtk.SD1276033  SD1276033   01000  Fließgewässer      1      23.   \n",
       "\n",
       "  ZBT_CODE BBT_CODE SCHUTZ_GES BT_WERT  ... LRT_NAME LRT_ZUSTA LRT_KOMPL  \\\n",
       "0     None     None          3      -1  ...     None      None         3   \n",
       "1     None     None          3      -1  ...     None      None         3   \n",
       "2     None     None          3      -1  ...     None      None         3   \n",
       "3     None     None          3      -1  ...     None      None         3   \n",
       "4     None     None          3      -1  ...     None      None         3   \n",
       "\n",
       "  BOGEN_ID KART_JAHR PRJ_ID PRJ_TITEL DAT_QUELLE  DAT_METHOD  \\\n",
       "0     None      None   None      None          S  S_Gewässer   \n",
       "1     None      None   None      None          S  S_Gewässer   \n",
       "2     None      None   None      None          S  S_Gewässer   \n",
       "3     None      None   None      None          S  S_Gewässer   \n",
       "4     None      None   None      None          S  S_Gewässer   \n",
       "\n",
       "                                            geometry  \n",
       "0  POLYGON ((373878.291 5823124.698, 373876.630 5...  \n",
       "1  POLYGON ((377387.250 5821451.963, 377387.591 5...  \n",
       "2  POLYGON ((377053.903 5821392.762, 377053.882 5...  \n",
       "3  POLYGON ((377643.322 5810868.289, 377645.257 5...  \n",
       "4  POLYGON ((385661.856 5827958.611, 385640.907 5...  \n",
       "\n",
       "[5 rows x 21 columns]"
      ]
     },
     "execution_count": 16,
     "metadata": {},
     "output_type": "execute_result"
    }
   ],
   "source": [
    "typ_df.head()"
   ]
  },
  {
   "cell_type": "code",
   "execution_count": 17,
   "metadata": {
    "ExecuteTime": {
     "end_time": "2020-05-17T19:43:08.912016Z",
     "start_time": "2020-05-17T19:43:08.438434Z"
    }
   },
   "outputs": [
    {
     "data": {
      "text/plain": [
       "['fis:s03_12_2emissionen']"
      ]
     },
     "execution_count": 17,
     "metadata": {},
     "output_type": "execute_result"
    }
   ],
   "source": [
    "url = \"https://fbinter.stadt-berlin.de/fb/wfs/data/senstadt/s03_12_2emissionen\"\n",
    "wfs = WebFeatureService(url=url, version='1.1.0', timeout=300)\n",
    "\n",
    "list(wfs.contents.keys())"
   ]
  },
  {
   "cell_type": "code",
   "execution_count": 18,
   "metadata": {
    "ExecuteTime": {
     "end_time": "2020-05-17T19:43:09.094088Z",
     "start_time": "2020-05-17T19:43:08.913016Z"
    }
   },
   "outputs": [
    {
     "data": {
      "text/plain": [
       "{'properties': {'IDNR_1KM': 'decimal',\n",
       "  'X_MAX': 'decimal',\n",
       "  'X_MIN': 'decimal',\n",
       "  'Y_MAX': 'decimal',\n",
       "  'Y_MIN': 'decimal',\n",
       "  'AREA': 'decimal',\n",
       "  'NOX_H_15': 'decimal',\n",
       "  'NOX_I_15': 'decimal',\n",
       "  'NOX_V_GN15': 'decimal',\n",
       "  'NOX_V_HN15': 'decimal',\n",
       "  'NOX_V_NN15': 'decimal',\n",
       "  'NOX_GE_15': 'decimal',\n",
       "  'PM10_H_15': 'decimal',\n",
       "  'PM10_I_15': 'decimal',\n",
       "  'PM10_VGN15': 'decimal',\n",
       "  'PM10_VHN15': 'decimal',\n",
       "  'PM10_VNN15': 'decimal',\n",
       "  'PM10_GE_15': 'decimal',\n",
       "  'PM2_5_H_15': 'decimal',\n",
       "  'PM2_5_I_15': 'decimal',\n",
       "  'PM25_VGN15': 'decimal',\n",
       "  'PM25_VHN15': 'decimal',\n",
       "  'PM25_VNN15': 'decimal',\n",
       "  'PM25_GE15': 'decimal'},\n",
       " 'required': [],\n",
       " 'geometry': 'GeometryCollection',\n",
       " 'geometry_column': 'SHAPE'}"
      ]
     },
     "execution_count": 18,
     "metadata": {},
     "output_type": "execute_result"
    }
   ],
   "source": [
    "wfs.get_schema('fis:s03_12_2emissionen')"
   ]
  },
  {
   "cell_type": "code",
   "execution_count": 19,
   "metadata": {
    "ExecuteTime": {
     "end_time": "2020-05-17T19:43:10.077930Z",
     "start_time": "2020-05-17T19:43:09.096002Z"
    }
   },
   "outputs": [],
   "source": [
    "emission = wfs.getfeature(typename='fis:s03_12_2emissionen')"
   ]
  },
  {
   "cell_type": "code",
   "execution_count": 20,
   "metadata": {
    "ExecuteTime": {
     "end_time": "2020-05-17T19:43:10.357401Z",
     "start_time": "2020-05-17T19:43:10.079834Z"
    }
   },
   "outputs": [],
   "source": [
    "emission_df = gpd.read_file(emission)"
   ]
  },
  {
   "cell_type": "code",
   "execution_count": 21,
   "metadata": {
    "ExecuteTime": {
     "end_time": "2020-05-17T19:43:10.390405Z",
     "start_time": "2020-05-17T19:43:10.359403Z"
    }
   },
   "outputs": [
    {
     "data": {
      "text/html": [
       "<div>\n",
       "<style scoped>\n",
       "    .dataframe tbody tr th:only-of-type {\n",
       "        vertical-align: middle;\n",
       "    }\n",
       "\n",
       "    .dataframe tbody tr th {\n",
       "        vertical-align: top;\n",
       "    }\n",
       "\n",
       "    .dataframe thead th {\n",
       "        text-align: right;\n",
       "    }\n",
       "</style>\n",
       "<table border=\"1\" class=\"dataframe\">\n",
       "  <thead>\n",
       "    <tr style=\"text-align: right;\">\n",
       "      <th></th>\n",
       "      <th>gml_id</th>\n",
       "      <th>IDNR_1KM</th>\n",
       "      <th>X_MAX</th>\n",
       "      <th>X_MIN</th>\n",
       "      <th>Y_MAX</th>\n",
       "      <th>Y_MIN</th>\n",
       "      <th>AREA</th>\n",
       "      <th>NOX_H_15</th>\n",
       "      <th>NOX_I_15</th>\n",
       "      <th>NOX_V_GN15</th>\n",
       "      <th>...</th>\n",
       "      <th>PM10_VHN15</th>\n",
       "      <th>PM10_VNN15</th>\n",
       "      <th>PM10_GE_15</th>\n",
       "      <th>PM2_5_H_15</th>\n",
       "      <th>PM2_5_I_15</th>\n",
       "      <th>PM25_VGN15</th>\n",
       "      <th>PM25_VHN15</th>\n",
       "      <th>PM25_VNN15</th>\n",
       "      <th>PM25_GE15</th>\n",
       "      <th>geometry</th>\n",
       "    </tr>\n",
       "  </thead>\n",
       "  <tbody>\n",
       "    <tr>\n",
       "      <th>0</th>\n",
       "      <td>s03_12_2emissionen.117</td>\n",
       "      <td>38485828.0</td>\n",
       "      <td>385800.0</td>\n",
       "      <td>384800.0</td>\n",
       "      <td>5829700.0</td>\n",
       "      <td>5828700.0</td>\n",
       "      <td>1000000.0</td>\n",
       "      <td>2.43</td>\n",
       "      <td>0.00</td>\n",
       "      <td>4.96</td>\n",
       "      <td>...</td>\n",
       "      <td>0.37</td>\n",
       "      <td>0.06</td>\n",
       "      <td>0.73</td>\n",
       "      <td>0.27</td>\n",
       "      <td>0.0</td>\n",
       "      <td>0.22</td>\n",
       "      <td>0.18</td>\n",
       "      <td>0.04</td>\n",
       "      <td>1.0</td>\n",
       "      <td>POLYGON ((384800.000 5828700.000, 385800.000 5...</td>\n",
       "    </tr>\n",
       "    <tr>\n",
       "      <th>1</th>\n",
       "      <td>s03_12_2emissionen.118</td>\n",
       "      <td>38585828.0</td>\n",
       "      <td>386800.0</td>\n",
       "      <td>385800.0</td>\n",
       "      <td>5829700.0</td>\n",
       "      <td>5828700.0</td>\n",
       "      <td>1000000.0</td>\n",
       "      <td>1.79</td>\n",
       "      <td>52.52</td>\n",
       "      <td>6.37</td>\n",
       "      <td>...</td>\n",
       "      <td>0.44</td>\n",
       "      <td>0.12</td>\n",
       "      <td>0.86</td>\n",
       "      <td>0.24</td>\n",
       "      <td>0.0</td>\n",
       "      <td>0.30</td>\n",
       "      <td>0.21</td>\n",
       "      <td>0.08</td>\n",
       "      <td>1.0</td>\n",
       "      <td>POLYGON ((385800.000 5828700.000, 386800.000 5...</td>\n",
       "    </tr>\n",
       "    <tr>\n",
       "      <th>2</th>\n",
       "      <td>s03_12_2emissionen.119</td>\n",
       "      <td>38685828.0</td>\n",
       "      <td>387800.0</td>\n",
       "      <td>386800.0</td>\n",
       "      <td>5829700.0</td>\n",
       "      <td>5828700.0</td>\n",
       "      <td>1000000.0</td>\n",
       "      <td>1.73</td>\n",
       "      <td>30.99</td>\n",
       "      <td>9.51</td>\n",
       "      <td>...</td>\n",
       "      <td>0.73</td>\n",
       "      <td>0.12</td>\n",
       "      <td>1.26</td>\n",
       "      <td>0.35</td>\n",
       "      <td>0.0</td>\n",
       "      <td>0.42</td>\n",
       "      <td>0.34</td>\n",
       "      <td>0.08</td>\n",
       "      <td>1.0</td>\n",
       "      <td>POLYGON ((386800.000 5828700.000, 387800.000 5...</td>\n",
       "    </tr>\n",
       "    <tr>\n",
       "      <th>3</th>\n",
       "      <td>s03_12_2emissionen.120</td>\n",
       "      <td>38785828.0</td>\n",
       "      <td>388800.0</td>\n",
       "      <td>387800.0</td>\n",
       "      <td>5829700.0</td>\n",
       "      <td>5828700.0</td>\n",
       "      <td>1000000.0</td>\n",
       "      <td>1.35</td>\n",
       "      <td>0.00</td>\n",
       "      <td>7.03</td>\n",
       "      <td>...</td>\n",
       "      <td>0.30</td>\n",
       "      <td>0.16</td>\n",
       "      <td>0.83</td>\n",
       "      <td>0.35</td>\n",
       "      <td>0.0</td>\n",
       "      <td>0.29</td>\n",
       "      <td>0.18</td>\n",
       "      <td>0.10</td>\n",
       "      <td>1.0</td>\n",
       "      <td>POLYGON ((387800.000 5828700.000, 388800.000 5...</td>\n",
       "    </tr>\n",
       "    <tr>\n",
       "      <th>4</th>\n",
       "      <td>s03_12_2emissionen.121</td>\n",
       "      <td>38885828.0</td>\n",
       "      <td>389800.0</td>\n",
       "      <td>388800.0</td>\n",
       "      <td>5829700.0</td>\n",
       "      <td>5828700.0</td>\n",
       "      <td>1000000.0</td>\n",
       "      <td>0.64</td>\n",
       "      <td>0.00</td>\n",
       "      <td>10.65</td>\n",
       "      <td>...</td>\n",
       "      <td>0.63</td>\n",
       "      <td>0.10</td>\n",
       "      <td>0.88</td>\n",
       "      <td>0.14</td>\n",
       "      <td>0.0</td>\n",
       "      <td>0.35</td>\n",
       "      <td>0.28</td>\n",
       "      <td>0.06</td>\n",
       "      <td>0.0</td>\n",
       "      <td>POLYGON ((388800.000 5828700.000, 389800.000 5...</td>\n",
       "    </tr>\n",
       "  </tbody>\n",
       "</table>\n",
       "<p>5 rows × 26 columns</p>\n",
       "</div>"
      ],
      "text/plain": [
       "                   gml_id    IDNR_1KM     X_MAX     X_MIN      Y_MAX  \\\n",
       "0  s03_12_2emissionen.117  38485828.0  385800.0  384800.0  5829700.0   \n",
       "1  s03_12_2emissionen.118  38585828.0  386800.0  385800.0  5829700.0   \n",
       "2  s03_12_2emissionen.119  38685828.0  387800.0  386800.0  5829700.0   \n",
       "3  s03_12_2emissionen.120  38785828.0  388800.0  387800.0  5829700.0   \n",
       "4  s03_12_2emissionen.121  38885828.0  389800.0  388800.0  5829700.0   \n",
       "\n",
       "       Y_MIN       AREA  NOX_H_15  NOX_I_15  NOX_V_GN15  ...  PM10_VHN15  \\\n",
       "0  5828700.0  1000000.0      2.43      0.00        4.96  ...        0.37   \n",
       "1  5828700.0  1000000.0      1.79     52.52        6.37  ...        0.44   \n",
       "2  5828700.0  1000000.0      1.73     30.99        9.51  ...        0.73   \n",
       "3  5828700.0  1000000.0      1.35      0.00        7.03  ...        0.30   \n",
       "4  5828700.0  1000000.0      0.64      0.00       10.65  ...        0.63   \n",
       "\n",
       "   PM10_VNN15  PM10_GE_15  PM2_5_H_15  PM2_5_I_15  PM25_VGN15  PM25_VHN15  \\\n",
       "0        0.06        0.73        0.27         0.0        0.22        0.18   \n",
       "1        0.12        0.86        0.24         0.0        0.30        0.21   \n",
       "2        0.12        1.26        0.35         0.0        0.42        0.34   \n",
       "3        0.16        0.83        0.35         0.0        0.29        0.18   \n",
       "4        0.10        0.88        0.14         0.0        0.35        0.28   \n",
       "\n",
       "   PM25_VNN15  PM25_GE15                                           geometry  \n",
       "0        0.04        1.0  POLYGON ((384800.000 5828700.000, 385800.000 5...  \n",
       "1        0.08        1.0  POLYGON ((385800.000 5828700.000, 386800.000 5...  \n",
       "2        0.08        1.0  POLYGON ((386800.000 5828700.000, 387800.000 5...  \n",
       "3        0.10        1.0  POLYGON ((387800.000 5828700.000, 388800.000 5...  \n",
       "4        0.06        0.0  POLYGON ((388800.000 5828700.000, 389800.000 5...  \n",
       "\n",
       "[5 rows x 26 columns]"
      ]
     },
     "execution_count": 21,
     "metadata": {},
     "output_type": "execute_result"
    }
   ],
   "source": [
    "emission_df.head()"
   ]
  },
  {
   "cell_type": "code",
   "execution_count": 7,
   "metadata": {
    "ExecuteTime": {
     "end_time": "2020-05-23T10:32:58.591838Z",
     "start_time": "2020-05-23T10:32:55.324209Z"
    }
   },
   "outputs": [],
   "source": [
    "ortsteile_df.to_file(\"ortsteile.geojson\", driver='GeoJSON')"
   ]
  },
  {
   "cell_type": "code",
   "execution_count": 22,
   "metadata": {
    "ExecuteTime": {
     "end_time": "2020-05-17T19:43:18.936842Z",
     "start_time": "2020-05-17T19:43:10.392486Z"
    }
   },
   "outputs": [],
   "source": [
    "karte_df.to_file(\"karte.geojson\", driver='GeoJSON')"
   ]
  },
  {
   "cell_type": "code",
   "execution_count": 23,
   "metadata": {
    "ExecuteTime": {
     "end_time": "2020-05-17T19:43:48.424492Z",
     "start_time": "2020-05-17T19:43:18.939815Z"
    }
   },
   "outputs": [],
   "source": [
    "beleucht_df.to_file(\"beleucht.geojson\", driver='GeoJSON')"
   ]
  },
  {
   "cell_type": "code",
   "execution_count": 24,
   "metadata": {
    "ExecuteTime": {
     "end_time": "2020-05-17T19:44:39.119981Z",
     "start_time": "2020-05-17T19:43:48.426477Z"
    }
   },
   "outputs": [],
   "source": [
    "typ_df.to_file(\"typ.geojson\", driver='GeoJSON')"
   ]
  },
  {
   "cell_type": "code",
   "execution_count": 25,
   "metadata": {
    "ExecuteTime": {
     "end_time": "2020-05-17T19:44:39.602497Z",
     "start_time": "2020-05-17T19:44:39.119981Z"
    }
   },
   "outputs": [],
   "source": [
    "emission_df.to_file(\"emission.geojson\", driver='GeoJSON')"
   ]
  }
 ],
 "metadata": {
  "kernelspec": {
   "display_name": "Python 3",
   "language": "python",
   "name": "python3"
  },
  "language_info": {
   "codemirror_mode": {
    "name": "ipython",
    "version": 3
   },
   "file_extension": ".py",
   "mimetype": "text/x-python",
   "name": "python",
   "nbconvert_exporter": "python",
   "pygments_lexer": "ipython3",
   "version": "3.8.2"
  }
 },
 "nbformat": 4,
 "nbformat_minor": 4
}
